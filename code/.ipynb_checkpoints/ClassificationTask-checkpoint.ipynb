{
 "cells": [
  {
   "cell_type": "markdown",
   "metadata": {},
   "source": [
    "# Classification Task\n",
    "\n",
    "In this assignment, you will:\n",
    "\n",
    "1. Propose a custom classification task and create a corpus of documents that are annotated for this task.\n",
    "\n",
    "2. Propose discriminative features to be included in the feature vector representation for the examples in this task and evaluate their utility by training and testing Logistic Regression models."
   ]
  },
  {
   "cell_type": "markdown",
   "metadata": {},
   "source": [
    "## Write Your Name Here: Nalini Katiyar\n",
    "## Student ID: 801204572"
   ]
  },
  {
   "cell_type": "markdown",
   "metadata": {},
   "source": [
    "# <font color=\"blue\"> Submission Instructions</font>\n",
    "\n",
    "1. Click the Save button at the top of the Jupyter Notebook.\n",
    "2. Please make sure to have entered your name above.\n",
    "3. Select Cell -> All Output -> Clear. This will clear all the outputs from all cells (but will keep the content of ll cells). \n",
    "4. Select Cell -> Run All. This will run all the cells in order, and will take several minutes.\n",
    "5. Once you've rerun everything, select File -> Download as -> PDF via LaTeX and download a PDF version *.pdf* showing the code and the output of all cells, and save it in the same folder that contains the notebook file *.ipynb*.\n",
    "6. Look at the PDF file and make sure all your solutions are there, displayed correctly. The PDF is the only thing we will see when grading!\n",
    "7. Submit **both** your PDF and notebook on Canvas.\n",
    "8. Verify your Canvas submission contains the correct files by downloading them after posting them on Canvas."
   ]
  },
  {
   "cell_type": "markdown",
   "metadata": {},
   "source": [
    "## Corpus acquisition and formatting\n",
    "\n",
    "1. Create a corpus of documents that you can use to create at least 300 examples for a task that is of interest you, a task that can be modeled as classification. In class we discussed the following NLP tasks:\n",
    "\n",
    "    - Document classification.\n",
    "    - Named entity recognition.\n",
    "    - Relation extraction.\n",
    "\n",
    "However you can choose any text processing task as long as it can be solved using classification.\n",
    "    \n",
    "- Manually annotate your data, such that you have at least 300 classification examples.\n",
    "- For manual annotation, you can use one of the schemes or annotation tools discussed in class.\n",
    "- The more data in your collection, the better your classification models will tend to perform on it.\n",
    "    \n",
    "\n",
    "2. Partition your data into three datasets: *train*, *dev*, and *test*, with the training set containing 80% of the documents, development 10%, and test 10%.\n",
    "\n",
    "    \n",
    "3. Your choice of task, documents, and labels is completely up to you. For example, if you choose to work on document classification, some possible sources of data are:\n",
    "\n",
    "    - **Project Gutenberg**: Metadata is available at this <a href=\"https://github.com/hugovk/gutenberg-metadata\">Github repo</a> along with URLs for the texts. Labels here can be author, subject, genre, etc.\n",
    "\t- **News articles**: Crawl news articles from different domains (e.g,. CNN, FoxNews); the label for each article is the domain.\n",
    "\t- **Movie summaries**: Labels here can be any categorical metadata aspect (genre, release date); note real-valued metadata (like box office, runtime) can be discretized by selecting some reasonable thresholds.\n",
    "\t- **Tweets**: Download your own tweets. Labels here can be any categorical metadata included in the tweet, or labels you add by hand (e.g., sarcasm).\n",
    "    \n",
    "    \n",
    "5. Additional requirements:\n",
    "\n",
    "    - No sentiment classification.\n",
    "    - **Undergraduate students**: It is acceptable to use an existing dataset, e.g. from kaggle.com or other repositories. However, it is preferable that you create your own dataset.\n",
    "    - **Graduate students**: It is highly recommended that you create your own dataset. This can also serve as the basis for your project, if you choose to submit a project instead of taking the final exam."
   ]
  },
  {
   "cell_type": "markdown",
   "metadata": {},
   "source": [
    "### Task and Dataset description\n",
    "\n",
    "Describe your data. What is the source of the documents, and what do the labels mean?"
   ]
  },
  {
   "cell_type": "markdown",
   "metadata": {},
   "source": [
    "# YOUR CONTRIBUTION HERE\n",
    "\n",
    "\n",
    "\n",
    "\n"
   ]
  },
  {
   "cell_type": "markdown",
   "metadata": {},
   "source": [
    "### Dataset reading and statistics\n",
    "\n",
    "\n",
    "Read the documents in each of the 3 datasets (*training*, *development*, and *test*) and for each dataset display the following statistics:\n",
    "\n",
    "1. The total number of examples in the dataset.\n",
    "2. The distribution of labels, which is task dependent. For example:\n",
    "    - For document classification, this would be the number of documents for each label.\n",
    "    - For NE recognition, this would be the number of names found for each NE type.\n",
    "    - For RE, this would be the total number of NE pairs in a sentence that are in the relationship (positive) or not (negative).\n",
    "\n",
    "For document classification, you can reuse the dataset reading code from the sentiment analysis assignments. For a different classification task, you would have to write different functions to read the data and the annotations. For example, if you use the Brat annotation tool, the annotations are stored in the `.ann` text files, which are straightforward to read."
   ]
  },
  {
   "cell_type": "code",
   "execution_count": 38,
   "metadata": {},
   "outputs": [
    {
     "name": "stdout",
     "output_type": "stream",
     "text": [
      "Document in Training Dataset : {'romance': 528, 'action': 528}\n",
      "Document in Development Dataset : {'romance': 66, 'action': 66}\n",
      "Document in Testing Dataset : {'romance': 66, 'action': 66}\n"
     ]
    }
   ],
   "source": [
    "def read_examples(filename):\n",
    "    X = []\n",
    "    Y = []\n",
    "    with open(filename, mode = 'r', encoding=\"utf-8\") as file:\n",
    "        for line in file:\n",
    "            [label, text] = line.rstrip().split(' ', maxsplit = 1)\n",
    "            X.append(text)\n",
    "            Y.append(label)\n",
    "    return X, Y\n",
    "\n",
    "def count_lable(data):\n",
    "    data_lables = {}\n",
    "    for ele in data:\n",
    "        if ele in data_lables:\n",
    "            data_lables[ele] += 1\n",
    "        else:\n",
    "            data_lables[ele] = 1\n",
    "    return(data_lables)\n",
    "\n",
    "datapath = \"../data/data1_\"\n",
    "\n",
    "train = datapath+'train.txt'\n",
    "trainX,trainY = read_examples(train)\n",
    "print(\"Document in Training Dataset :\",count_lable(trainY))\n",
    "\n",
    "dev = datapath+'dev.txt'\n",
    "devX,devY = read_examples(dev)\n",
    "print(\"Document in Development Dataset :\",count_lable(devY))\n",
    "\n",
    "test = datapath+'test.txt'\n",
    "testX,testY = read_examples(test)\n",
    "print(\"Document in Testing Dataset :\",count_lable(testY))\n",
    "\n"
   ]
  },
  {
   "cell_type": "code",
   "execution_count": 39,
   "metadata": {},
   "outputs": [],
   "source": [
    "romance_lexicon = set(('love','relationship','boyfriend','girlfriend','romance','romantic','romanticists','soulmate','bride','ex','drama','breakup','fiancé','pregnant','wife','sensual','charming','engagement','wedding','husband','date','heart','dil','pyaar','lover','affair','sex','bachelor''breakup','prince','princess','falls'))\n",
    "action_lexicon = set(('hitman','military','rescue','crime','racing','forces','adventure','war','action','fight','mission','undercover','agent','terrorist','escape','law','gun','fire','conspiracy','sniper','kill','hunter','murder','deadly','kidnap','thriller','spy','attack','drug','cartel'))\n",
    "\n"
   ]
  },
  {
   "cell_type": "markdown",
   "metadata": {},
   "source": [
    "### From textual examples to feature vectors\n",
    "\n",
    "Read the documents in each dataset (train, dev, test) and generate the corresponding examples as feature vectors. Some skeleton code is provided below, but feel free to customize as you see fit for your task.\n",
    "\n",
    "1. Tokenize each document using a spaCy tokenizer.\n",
    "\n",
    "2. Create at least two feature functions, and include them in the *features* list.\n",
    "\n",
    "    - A passing grade will be given to generic features that apply across arbitrary text classification problems (e.g., a feature for bigrams);\n",
    "\n",
    "    - A better grade will be given for features that reveal your own understanding of your data. What features do you think will help for your particular problem? Would features based on higher level NLP processing tasks (syntactic parsing, coreference resolution) be useful? Your grade is not tied to whether accuracy goes up or down, so be creative!\n",
    "\n",
    "    - You are free to read in any other external resources you like (dictionaries, document metadata, etc.), but make sure you include them in the `../data` folder.\n",
    "\n",
    "3. Process each dataset into a set of examples, by mapping each document in the dataset to its corresponding set of examples. Process each example into a feature vector, using the feature functions from *features*. You can reuse feature vector representation code from previous assignments.\n",
    "    - map example to a dictionary of feature names.\n",
    "    - map feature names to unique feature IDs.\n",
    "    - each example is a feature vector, where each feature ID is mapped to a feature value (e.g. word occurences)."
   ]
  },
  {
   "cell_type": "code",
   "execution_count": 40,
   "metadata": {},
   "outputs": [],
   "source": [
    "import spacy\n",
    "from spacy.lang.en import English\n",
    "from scipy import sparse\n",
    "from sklearn.linear_model import LogisticRegression\n",
    "\n",
    "# Create spaCy tokenizer.\n",
    "spacy_nlp = English()\n",
    "\n",
    "def spacy_tokenizer(text):\n",
    "    tokens = spacy_nlp.tokenizer(text)\n",
    "    \n",
    "    return [token.text for token in tokens]"
   ]
  },
  {
   "cell_type": "code",
   "execution_count": 41,
   "metadata": {},
   "outputs": [],
   "source": [
    "def word_features(tokens):\n",
    "    feats = {}\n",
    "    for word in tokens:\n",
    "        feat = 'WORD_%s' % word\n",
    "        if feat in feats:\n",
    "            feats[feat] +=1\n",
    "        else:\n",
    "            feats[feat] = 1\n",
    "    return feats"
   ]
  },
  {
   "cell_type": "code",
   "execution_count": 42,
   "metadata": {},
   "outputs": [],
   "source": [
    "def lexicon_features(tokens):\n",
    "    feats = {}\n",
    "    for token in tokens:\n",
    "        poselx_word = 'ROMLEX'+ token\n",
    "        neglex_word = 'ACTLEX'+ token\n",
    "        if(poselx_word in feats):\n",
    "            feats[poselx_word]+=1\n",
    "        elif(neglex_word in feats):\n",
    "            feats[neglex_word]+=1\n",
    "        elif(poselx_word not in feats and token in romance_lexicon):\n",
    "            feats[poselx_word] = 1\n",
    "        elif(neglex_word not in feats and token in action_lexicon):\n",
    "            feats[neglex_word] = 1\n",
    "    \n",
    "    return feats"
   ]
  },
  {
   "cell_type": "code",
   "execution_count": 43,
   "metadata": {},
   "outputs": [],
   "source": [
    "def count_lexicon(tokens):\n",
    "    feats = {'ROMLEX': 0, 'ACTLEX': 0}\n",
    "    # YOUR CODE HERE\n",
    "    for token in tokens:\n",
    "        if(token in romance_lexicon):\n",
    "            feats['ROMLEX']+=1\n",
    "        elif(token in action_lexicon):\n",
    "            feats['ACTLEX']+=1\n",
    "            \n",
    "    return feats"
   ]
  },
  {
   "cell_type": "code",
   "execution_count": 44,
   "metadata": {},
   "outputs": [],
   "source": [
    "def add_features(feats, new_feats):\n",
    "    for feat in new_feats:\n",
    "        if feat in feats:\n",
    "            feats[feat] += new_feats[feat]\n",
    "        else:\n",
    "            feats[feat] = new_feats[feat]\n",
    "    return feats"
   ]
  },
  {
   "cell_type": "code",
   "execution_count": 45,
   "metadata": {},
   "outputs": [],
   "source": [
    "def create_examples(trainX, feature_functions, tokenizer):\n",
    "    examples = []\n",
    "    count = 0\n",
    "    for doc in trainX:\n",
    "        feats = {}\n",
    "        tokens = tokenizer(doc)\n",
    "        for func in feature_functions:\n",
    "            add_features(feats, func(tokens))\n",
    "\n",
    "        examples.append(feats)\n",
    "        count +=1\n",
    "        \n",
    "        if count % 100 == 0:\n",
    "            print('Processed %d examples into features' % len(examples))\n",
    "    \n",
    "    return examples"
   ]
  },
  {
   "cell_type": "code",
   "execution_count": 46,
   "metadata": {},
   "outputs": [],
   "source": [
    "def create_vocab(examples):\n",
    "    feature_vocab = {}\n",
    "    idx = 0\n",
    "    for example in examples:\n",
    "        for feat in example:\n",
    "            if feat not in feature_vocab:\n",
    "                feature_vocab[feat] = idx\n",
    "                idx += 1\n",
    "                \n",
    "    return feature_vocab"
   ]
  },
  {
   "cell_type": "code",
   "execution_count": 47,
   "metadata": {},
   "outputs": [],
   "source": [
    "def features_to_ids(examples, feature_vocab):\n",
    "    new_examples = sparse.lil_matrix((len(examples), len(feature_vocab)))\n",
    "    for idx, example in enumerate(examples):\n",
    "        for feat in example:\n",
    "            if feat in feature_vocab:\n",
    "                new_examples[idx, feature_vocab[feat]] = example[feat]\n",
    "                \n",
    "    return new_examples"
   ]
  },
  {
   "cell_type": "markdown",
   "metadata": {},
   "source": [
    "### Train and evaluate\n",
    "\n",
    "Write a `train_and_test` function that takes as input the training and test examples, trains a Logistic Regression model on the training examples and evaluates it on the test examples. You can use the default value for the `C` hyper-parameter, or tune it on the development examples. Report accuracy, or precision and recall, depending on the task."
   ]
  },
  {
   "cell_type": "code",
   "execution_count": 48,
   "metadata": {},
   "outputs": [],
   "source": [
    "def train_and_test(trainX, trainY, devX, devY, feature_functions, tokenizer):\n",
    "    # Pre-process training documents. \n",
    "    trainX_feat = create_examples(trainX, feature_functions, tokenizer)\n",
    "\n",
    "    # Create vocabulary from features in training examples.\n",
    "    feature_vocab = create_vocab(trainX_feat)\n",
    "    print('Vocabulary size: %d' % len(feature_vocab))\n",
    "\n",
    "    trainX_ids = features_to_ids(trainX_feat, feature_vocab)\n",
    "    \n",
    "    # Train LR model.\n",
    "    lr_model = LogisticRegression(penalty = 'l2', C = 1.0, solver = 'lbfgs', max_iter = 1000)\n",
    "    lr_model.fit(trainX_ids, trainY)\n",
    "    \n",
    "    # Pre-process test documents. \n",
    "    devX_feat = create_examples(devX, feature_functions, tokenizer)\n",
    "    devX_ids = features_to_ids(devX_feat, feature_vocab)\n",
    "\n",
    "    # Test LR model.\n",
    "    print('Accuracy: %.3f' % lr_model.score(devX_ids, devY))\n",
    "   "
   ]
  },
  {
   "cell_type": "code",
   "execution_count": 49,
   "metadata": {},
   "outputs": [
    {
     "name": "stdout",
     "output_type": "stream",
     "text": [
      "Processed 100 examples into features\n",
      "Processed 200 examples into features\n",
      "Processed 300 examples into features\n",
      "Processed 400 examples into features\n",
      "Processed 500 examples into features\n",
      "Processed 600 examples into features\n",
      "Processed 700 examples into features\n",
      "Processed 800 examples into features\n",
      "Processed 900 examples into features\n",
      "Processed 1000 examples into features\n",
      "Vocabulary size: 10022\n",
      "Processed 100 examples into features\n",
      "Accuracy: 0.765\n"
     ]
    }
   ],
   "source": [
    "datapath = '../data'\n",
    "features = [word_features,count_lexicon]\n",
    "\n",
    "# Evaluate LR model.\n",
    "train_and_test(trainX, trainY, devX, devY, features, spacy_tokenizer)"
   ]
  },
  {
   "cell_type": "markdown",
   "metadata": {},
   "source": [
    "### Ablation experiments\n",
    "\n",
    "Evaluate the impact of your features by training and testing with vs. without each feature."
   ]
  },
  {
   "cell_type": "code",
   "execution_count": 50,
   "metadata": {},
   "outputs": [
    {
     "name": "stdout",
     "output_type": "stream",
     "text": [
      "Processed 100 examples into features\n",
      "Processed 200 examples into features\n",
      "Processed 300 examples into features\n",
      "Processed 400 examples into features\n",
      "Processed 500 examples into features\n",
      "Processed 600 examples into features\n",
      "Processed 700 examples into features\n",
      "Processed 800 examples into features\n",
      "Processed 900 examples into features\n",
      "Processed 1000 examples into features\n",
      "Vocabulary size: 10022\n",
      "Processed 100 examples into features\n",
      "Accuracy: 0.803\n"
     ]
    }
   ],
   "source": [
    "# Specify features to use. Do this multiple times, with and without any of the new features.\n",
    "features = [word_features,count_lexicon]\n",
    "\n",
    "# Create training, development, and test examples\n",
    "# datapath = \"../data/data_\"\n",
    "\n",
    "# train = datapath+'train.txt'\n",
    "# trainX,trainY = read_examples(train)\n",
    "# print(\"Document in Training Dataset :\",count_lable(trainY))\n",
    "\n",
    "# dev = datapath+'dev.txt'\n",
    "# devX,devY = read_examples(dev)\n",
    "# print(\"Document in Development Dataset :\",count_lable(devY))\n",
    "\n",
    "# test = datapath+'test.txt'\n",
    "# testX,testY = read_examples(test)\n",
    "# print(\"Document in Testing Dataset :\",count_lable(testY))\n",
    "\n",
    "# Evaluate LR model.\n",
    "train_and_test(trainX, trainY, testX, testY, features, spacy_tokenizer)"
   ]
  },
  {
   "cell_type": "markdown",
   "metadata": {},
   "source": [
    "## Plot ROC or PR Curve\n",
    "\n",
    "*Mandatory for graduate students, optional for undergraduate students.*\n",
    "\n",
    "Take your best classifier and plot a <a href=\"https://en.wikipedia.org/wiki/Receiver_operating_characteristic\">Receiver Operating Characteristic (ROC)</a> curve if you use accuracy for evaluation, by varying a threshold on the probabilistic output. You can use the <a href=\"https://scikit-learn.org/stable/auto_examples/model_selection/plot_roc.html\">sklearn implementation</a>, or implement your own. If you use precision and recall, plot a precision vs. recall (PR) curve instead."
   ]
  },
  {
   "cell_type": "code",
   "execution_count": 58,
   "metadata": {},
   "outputs": [
    {
     "name": "stdout",
     "output_type": "stream",
     "text": [
      "Processed 100 examples into features\n",
      "Processed 200 examples into features\n",
      "Processed 300 examples into features\n",
      "Processed 400 examples into features\n",
      "Processed 500 examples into features\n",
      "Processed 600 examples into features\n",
      "Processed 700 examples into features\n",
      "Processed 800 examples into features\n",
      "Processed 900 examples into features\n",
      "Processed 1000 examples into features\n",
      "Vocabulary size: 10022\n",
      "Processed 100 examples into features\n",
      "Accuracy: 0.803\n"
     ]
    },
    {
     "data": {
      "image/png": "[encoded data removed]",
      "text/plain": [
       "<Figure size 1440x720 with 1 Axes>"
      ]
     },
     "metadata": {
      "needs_background": "light"
     },
     "output_type": "display_data"
    }
   ],
   "source": [
    "# YOUR CODE HERE\n",
    "import matplotlib.pyplot as plt\n",
    "from sklearn.metrics import roc_curve, roc_auc_score\n",
    "\n",
    "feature_functions = [word_features,count_lexicon]\n",
    "\n",
    "trainX_feat = create_examples(trainX, feature_functions, spacy_tokenizer)\n",
    "feature_vocab = create_vocab(trainX_feat)\n",
    "print('Vocabulary size: %d' % len(feature_vocab))\n",
    "\n",
    "trainX_ids = features_to_ids(trainX_feat, feature_vocab)\n",
    "lr_model = LogisticRegression(penalty = 'l2', C = 1.0, solver = 'lbfgs', max_iter = 1000)\n",
    "lr_model.fit(trainX_ids, trainY)\n",
    "testX_feat = create_examples(testX, feature_functions, spacy_tokenizer)\n",
    "testX_ids = features_to_ids(testX_feat, feature_vocab)\n",
    "\n",
    "print('Accuracy: %.3f' % lr_model.score(testX_ids, devY))\n",
    "\n",
    "lr_probability = lr_model.predict_proba(testX_ids)[:,1]\n",
    "testY_class = []\n",
    "for item in testY:\n",
    "    if(item == 'action'):\n",
    "        testY_class.append(0)\n",
    "    else:\n",
    "        testY_class.append(1)\n",
    "fpr, tpr, _ = roc_curve(testY_class,  lr_probability)\n",
    "roc_auc = roc_auc_score(testY_class, lr_probability)\n",
    "lw = 2\n",
    "plt.figure(figsize=(20,10))\n",
    "plt.ylim(0,1.01)\n",
    "plt.plot([0, 1], [0, 1], color=\"navy\", lw=lw, linestyle=\"--\")\n",
    "plt.plot(fpr,tpr,color=\"darkorange\",lw=lw, label=\"ROC curve (area = %0.2f)\" % roc_auc,)\n",
    "plt.xlabel(\"False Positive Rate\")\n",
    "plt.ylabel(\"True Positive Rate\")\n",
    "plt.title(\"Receiver operating characteristic\")\n",
    "plt.legend(loc=\"lower right\")\n",
    "plt.show()"
   ]
  },
  {
   "cell_type": "code",
   "execution_count": 64,
   "metadata": {},
   "outputs": [
    {
     "data": {
      "image/png": "[encoded data removed]",
      "text/plain": [
       "<Figure size 432x288 with 1 Axes>"
      ]
     },
     "metadata": {
      "needs_background": "light"
     },
     "output_type": "display_data"
    }
   ],
   "source": [
    "import pandas as pd\n",
    "import numpy as np\n",
    "from sklearn.model_selection import train_test_split\n",
    "from sklearn.linear_model import LogisticRegression\n",
    "from sklearn import metrics\n",
    "import matplotlib.pyplot as plt\n",
    "\n",
    "#import dataset from CSV file on Github\n",
    "url = \"https://raw.githubusercontent.com/Statology/Python-Guides/main/default.csv\"\n",
    "data = pd.read_csv(url)\n",
    "\n",
    "#define the predictor variables and the response variable\n",
    "X = data[['student', 'balance', 'income']]\n",
    "y = data['default']\n",
    "\n",
    "#split the dataset into training (70%) and testing (30%) sets\n",
    "X_train,X_test,y_train,y_test = train_test_split(X,y,test_size=0.3,random_state=0) \n",
    "\n",
    "#instantiate the model\n",
    "log_regression = LogisticRegression()\n",
    "\n",
    "#fit the model using the training data\n",
    "log_regression.fit(X_train,y_train)\n",
    "y_pred_proba = log_regression.predict_proba(X_test)[::,1]\n",
    "fpr, tpr, _ = metrics.roc_curve(y_test,  y_pred_proba)\n",
    "\n",
    "#create ROC curve\n",
    "plt.plot(fpr,tpr)\n",
    "plt.ylabel('True Positive Rate')\n",
    "plt.xlabel('False Positive Rate')\n",
    "plt.show()"
   ]
  },
  {
   "cell_type": "markdown",
   "metadata": {},
   "source": [
    "## Bonus points ##\n",
    "\n",
    "Anything extra goes here.\n"
   ]
  },
  {
   "cell_type": "code",
   "execution_count": 51,
   "metadata": {},
   "outputs": [
    {
     "name": "stdout",
     "output_type": "stream",
     "text": [
      "Processed 100 examples into features\n",
      "Processed 200 examples into features\n",
      "Processed 300 examples into features\n",
      "Processed 400 examples into features\n",
      "Processed 500 examples into features\n",
      "Processed 600 examples into features\n",
      "Processed 700 examples into features\n",
      "Processed 800 examples into features\n",
      "Processed 900 examples into features\n",
      "Processed 1000 examples into features\n",
      "Vocabulary size: 10022\n",
      "Processed 100 examples into features\n",
      "Accuracy: 0.765\n"
     ]
    }
   ],
   "source": [
    "import nltk\n",
    "from nltk.stem import SnowballStemmer\n",
    "stemmer = nltk.stem.SnowballStemmer('english')\n",
    "\n",
    "def lemma_feature(tokens):\n",
    "    lemma_token = []\n",
    "    lemma_feat = {}\n",
    "    for token in tokens:\n",
    "        lemma_token.append(stemmer.stem(token)+'_'+token)\n",
    "    for x in lemma_token:\n",
    "        if('_' in x):\n",
    "            temp = x.split('_')\n",
    "            if(x not in  lemma_feat):\n",
    "                lemma_feat[x] = 1\n",
    "            elif(x in  lemma_feat):\n",
    "                lemma_feat[x] += 1\n",
    "    return lemma_feat\n",
    "\n",
    "datapath = '../data'\n",
    "features = [lemma_feature,count_lexicon]\n",
    "\n",
    "# Evaluate LR model.\n",
    "train_and_test(trainX, trainY, devX, devY, features, spacy_tokenizer)\n"
   ]
  },
  {
   "cell_type": "code",
   "execution_count": 52,
   "metadata": {},
   "outputs": [
    {
     "name": "stdout",
     "output_type": "stream",
     "text": [
      "Processed 100 examples into features\n",
      "Processed 200 examples into features\n",
      "Processed 300 examples into features\n",
      "Processed 400 examples into features\n",
      "Processed 500 examples into features\n",
      "Processed 600 examples into features\n",
      "Processed 700 examples into features\n",
      "Processed 800 examples into features\n",
      "Processed 900 examples into features\n",
      "Processed 1000 examples into features\n",
      "Vocabulary size: 10023\n",
      "Processed 100 examples into features\n",
      "Accuracy: 0.765\n",
      "Processed 100 examples into features\n",
      "Processed 200 examples into features\n",
      "Processed 300 examples into features\n",
      "Processed 400 examples into features\n",
      "Processed 500 examples into features\n",
      "Processed 600 examples into features\n",
      "Processed 700 examples into features\n",
      "Processed 800 examples into features\n",
      "Processed 900 examples into features\n",
      "Processed 1000 examples into features\n",
      "Vocabulary size: 10023\n",
      "Processed 100 examples into features\n",
      "Accuracy: 0.811\n"
     ]
    }
   ],
   "source": [
    "accronyms = set(('FBI','CIA','DEA','NYPD','AD','UFO','BC','feds','RAW','FIR','USSR','SP','NATO','DEA','II','III','sci-fi','WWII','NY','rom-com'))\n",
    "\n",
    "def count_acronyms(tokens):\n",
    "    feat_accr = {'accronym': 0}\n",
    "    for token in tokens:\n",
    "        if token in accronyms:\n",
    "            feat_accr['accronym'] += 1\n",
    "\n",
    "    return feat_accr\n",
    "\n",
    "features = [lemma_feature,count_lexicon,count_acronyms]\n",
    "\n",
    "# Evaluate LR model.\n",
    "train_and_test(trainX, trainY, devX, devY, features, spacy_tokenizer)\n",
    "train_and_test(trainX, trainY, testX, testY, features, spacy_tokenizer)\n"
   ]
  },
  {
   "cell_type": "code",
   "execution_count": 55,
   "metadata": {},
   "outputs": [
    {
     "name": "stdout",
     "output_type": "stream",
     "text": [
      "Processed 100 examples into features\n",
      "Processed 200 examples into features\n",
      "Processed 300 examples into features\n",
      "Processed 400 examples into features\n",
      "Processed 500 examples into features\n",
      "Processed 600 examples into features\n",
      "Processed 700 examples into features\n",
      "Processed 800 examples into features\n",
      "Processed 900 examples into features\n",
      "Processed 1000 examples into features\n",
      "Vocabulary size: 10023\n",
      "Processed 100 examples into features\n",
      "Accuracy: 0.765\n",
      "Processed 100 examples into features\n",
      "Processed 200 examples into features\n",
      "Processed 300 examples into features\n",
      "Processed 400 examples into features\n",
      "Processed 500 examples into features\n",
      "Processed 600 examples into features\n",
      "Processed 700 examples into features\n",
      "Processed 800 examples into features\n",
      "Processed 900 examples into features\n",
      "Processed 1000 examples into features\n",
      "Vocabulary size: 10023\n",
      "Processed 100 examples into features\n",
      "Accuracy: 0.803\n"
     ]
    }
   ],
   "source": [
    "import nltk\n",
    "from nltk.stem import SnowballStemmer\n",
    "stemmer = nltk.stem.SnowballStemmer('english')\n",
    "\n",
    "\n",
    "place = ['us', 'france', 'europe', 'texas', 'new york', 'ny', 'india', 'norway', 'china', 'russia', 'canada', 'mexico', 'japan', 'brazil', 'germany', 'australia', 'spain', 'italy', 'argentina', 'sweden', 'south africa', 'egypt', 'portugal', 'iran', 'greece', 'turkey', 'finland', 'poland', 'chile', 'iraq', 'pakistan', 'indonesia', 'north korea', 'denmark', 'switzerland', 'saudi arabia', 'thailand', 'netherlands', 'austria', 'belgium', 'iceland', 'peru', 'colombia', 'cuba', 'ukraine', 'afghanistan', 'morocco', 'mongolia', 'uruguay', 'madagascar', 'london', 'italy', 'hong kong', 'california', 'barcelona', 'paris', 'america', 'georgia', 'turkey', 'philippines', 'florida', 'brazilian', 'orleans', 'rome', 'shanghai', 'korean','indian']\n",
    "\n",
    "def count_places(tokens):\n",
    "    feat_accr = {'place': 0}\n",
    "    for token in tokens:\n",
    "        token = stemmer.stem(token)\n",
    "        if token.lower() in accronyms:\n",
    "            feat_accr['place'] += 1\n",
    "\n",
    "    return feat_accr\n",
    "\n",
    "features = [lemma_feature,count_lexicon,count_places]\n",
    "\n",
    "# Evaluate LR model.\n",
    "train_and_test(trainX, trainY, devX, devY, features, spacy_tokenizer)\n",
    "train_and_test(trainX, trainY, testX, testY, features, spacy_tokenizer)"
   ]
  },
  {
   "cell_type": "markdown",
   "metadata": {},
   "source": [
    "## Analysis ##\n",
    "Include an analysis of the results that you obtained in the experiments above. It is improtant that results are formatted well, e.g. using tables, lists, etc."
   ]
  },
  {
   "cell_type": "markdown",
   "metadata": {},
   "source": []
  }
 ],
 "metadata": {
  "kernelspec": {
   "display_name": "Python 3 (ipykernel)",
   "language": "python",
   "name": "python3"
  },
  "language_info": {
   "codemirror_mode": {
    "name": "ipython",
    "version": 3
   },
   "file_extension": ".py",
   "mimetype": "text/x-python",
   "name": "python",
   "nbconvert_exporter": "python",
   "pygments_lexer": "ipython3",
   "version": "3.9.7"
  }
 },
 "nbformat": 4,
 "nbformat_minor": 4
}
