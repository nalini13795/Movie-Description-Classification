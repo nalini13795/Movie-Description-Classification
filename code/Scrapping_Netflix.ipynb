{
 "cells": [
  {
   "cell_type": "code",
   "execution_count": 98,
   "id": "795032f2",
   "metadata": {},
   "outputs": [],
   "source": [
    "from bs4 import BeautifulSoup\n"
   ]
  },
  {
   "cell_type": "code",
   "execution_count": 104,
   "id": "d58b9007",
   "metadata": {},
   "outputs": [],
   "source": [
    "def read_html(html_file, genre):\n",
    "    movies = []\n",
    "    with open(html_file, 'r', encoding='utf8') as f:\n",
    "        contents = f.read()\n",
    "        soup = BeautifulSoup(contents, 'lxml')\n",
    "        title = soup.find_all('h1',attrs = {'class':'tst-hover-title'})\n",
    "        syn = soup.find_all('p', attrs = {'class':'tst-hover-synopsis'}) \n",
    "\n",
    "        for title1,syn1 in zip(title,syn):\n",
    "            temp = genre +' '+title1.text.strip()+' '+syn1.text.strip()+'\\n'\n",
    "            movies.append(temp)\n",
    "    print(len(movies)*0.8)\n",
    "    return movies\n",
    "    \n",
    "#     movies_train = movies[:240]\n",
    "#     movies_dev= movies[240:270]\n",
    "#     movies_test = movies[270:300]\n",
    "    "
   ]
  },
  {
   "cell_type": "code",
   "execution_count": 100,
   "id": "9c74043a",
   "metadata": {},
   "outputs": [],
   "source": [
    "def create_csv(html_file, genre):\n",
    "    movies = read_html(html_file, genre)\n",
    "    length = len(movies)\n",
    "    train_length = length*0.8\n",
    "    test_length = length*0.1\n",
    "    movies_train = movies[0:256]\n",
    "    movies_test = movies[256:288]\n",
    "    movies_dev = movies[288:]\n",
    "    with open('../data/data_train.txt', 'a', newline='',encoding='utf8') as f:\n",
    "        for movie in movies_train:\n",
    "            f.writelines(movie)\n",
    "    with open('../data/data_test.txt', 'a', newline='',encoding='utf8') as f:\n",
    "        for movie in movies_test:\n",
    "            f.writelines(movie)\n",
    "    with open('../data/data_dev.txt', 'a', newline='',encoding='utf8') as f:\n",
    "        for movie in movies_dev:\n",
    "            f.writelines(movie)\n",
    "    "
   ]
  },
  {
   "cell_type": "code",
   "execution_count": 105,
   "id": "5a835610",
   "metadata": {},
   "outputs": [
    {
     "name": "stdout",
     "output_type": "stream",
     "text": [
      "256.0\n",
      "256.0\n"
     ]
    }
   ],
   "source": [
    "create_csv('../data/html_files/romance.html','romance')\n",
    "create_csv('../data/html_files/action.html','action')"
   ]
  }
 ],
 "metadata": {
  "kernelspec": {
   "display_name": "Python 3 (ipykernel)",
   "language": "python",
   "name": "python3"
  },
  "language_info": {
   "codemirror_mode": {
    "name": "ipython",
    "version": 3
   },
   "file_extension": ".py",
   "mimetype": "text/x-python",
   "name": "python",
   "nbconvert_exporter": "python",
   "pygments_lexer": "ipython3",
   "version": "3.9.7"
  }
 },
 "nbformat": 4,
 "nbformat_minor": 5
}
